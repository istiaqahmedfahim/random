{
 "cells": [
  {
   "cell_type": "code",
   "execution_count": 1,
   "metadata": {},
   "outputs": [
    {
     "name": "stdout",
     "output_type": "stream",
     "text": [
      "Patterns saved to lfsr_patterns.csv\n"
     ]
    }
   ],
   "source": [
    "import csv\n",
    "\n",
    "def lfsr(seed, taps, num_patterns, num_inputs):\n",
    "    \"\"\"Generates patterns using LFSR.\"\"\"\n",
    "    seed = [int(bit) for bit in seed]\n",
    "    patterns = []\n",
    "    for _ in range(num_patterns):\n",
    "        # Select the first num_inputs bits as a pattern\n",
    "        pattern = seed[:num_inputs]\n",
    "        patterns.append(pattern)\n",
    "        \n",
    "        # Compute the feedback bit\n",
    "        feedback = sum(seed[tap] for tap in taps) % 2\n",
    "        \n",
    "        # Shift the register and append feedback at the start\n",
    "        seed = [feedback] + seed[:-1]\n",
    "    return patterns\n",
    "\n",
    "def save_to_csv(patterns, num_inputs, file_name=\"lfsr_patterns.csv\"):\n",
    "    \"\"\"Saves the patterns to a CSV file.\"\"\"\n",
    "    headers = [f\"Input_{i+1}\" for i in range(num_inputs)]\n",
    "    with open(file_name, mode=\"w\", newline=\"\") as file:\n",
    "        writer = csv.writer(file)\n",
    "        writer.writerow(headers)\n",
    "        writer.writerows(patterns)\n",
    "    print(f\"Patterns saved to {file_name}\")\n",
    "\n",
    "# Example parameters\n",
    "num_inputs_per_pattern = 4\n",
    "num_patterns_to_generate = 10\n",
    "lfsr_stages = 8\n",
    "initial_seed = \"11001001\"\n",
    "taps = [6, 5]  # Example taps for feedback (based on positions in the LFSR)\n",
    "\n",
    "# Generate patterns\n",
    "generated_patterns = lfsr(initial_seed, taps, num_patterns_to_generate, num_inputs_per_pattern)\n",
    "\n",
    "# Save patterns to CSV\n",
    "save_to_csv(generated_patterns, num_inputs_per_pattern)"
   ]
  }
 ],
 "metadata": {
  "kernelspec": {
   "display_name": "Python 3",
   "language": "python",
   "name": "python3"
  },
  "language_info": {
   "codemirror_mode": {
    "name": "ipython",
    "version": 3
   },
   "file_extension": ".py",
   "mimetype": "text/x-python",
   "name": "python",
   "nbconvert_exporter": "python",
   "pygments_lexer": "ipython3",
   "version": "3.10.4"
  },
  "orig_nbformat": 4,
  "vscode": {
   "interpreter": {
    "hash": "df95319d8ce4e1d89f5365ae10992bc1f65da593082b1d264e8f529830ec2f02"
   }
  }
 },
 "nbformat": 4,
 "nbformat_minor": 2
}
